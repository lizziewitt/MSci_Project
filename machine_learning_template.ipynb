{
 "cells": [
  {
   "cell_type": "markdown",
   "id": "226396bf",
   "metadata": {},
   "source": [
    "# Imports"
   ]
  },
  {
   "cell_type": "code",
   "execution_count": 1,
   "id": "6bb2324d",
   "metadata": {},
   "outputs": [],
   "source": [
    "import sys, os\n",
    "\n",
    "from math import log10\n",
    "from numpy import array, pi\n",
    "\n",
    "import pandas as pd\n",
    "import numpy as np\n",
    "from numpy import concatenate\n",
    "from bisect import bisect_left\n",
    "import pickle\n",
    "import matplotlib.pyplot as plt\n",
    "%matplotlib inline\n",
    "from hist import Hist\n",
    "import hist\n",
    "\n",
    "from sklearn.model_selection import train_test_split, cross_val_score, KFold, StratifiedKFold\n",
    "from sklearn.preprocessing import MinMaxScaler\n",
    "from sklearn.ensemble import AdaBoostClassifier, RandomForestClassifier\n",
    "from sklearn.metrics import zero_one_loss, roc_curve, roc_auc_score, auc, accuracy_score\n",
    "from sklearn.base import clone\n",
    "# algorithms:\n",
    "from sklearn.tree import export_graphviz, DecisionTreeClassifier#, plot_tree, export_text # Available in later versions\n",
    "import graphviz"
   ]
  },
  {
   "cell_type": "markdown",
   "id": "0b407b6c",
   "metadata": {},
   "source": [
    "# Setup plotting"
   ]
  },
  {
   "cell_type": "code",
   "execution_count": 2,
   "id": "cf0e2fe9",
   "metadata": {},
   "outputs": [],
   "source": [
    "plt.rcParams['figure.figsize'] = [10, 8]\n",
    "font = {'family' : 'normal','weight' : 'normal','size'   : 22}\n",
    "plt.rc('font', **font)"
   ]
  },
  {
   "cell_type": "markdown",
   "id": "180ef4dd",
   "metadata": {},
   "source": [
    "# Parameters"
   ]
  },
  {
   "cell_type": "code",
   "execution_count": 3,
   "id": "7db0dddd",
   "metadata": {},
   "outputs": [],
   "source": [
    "ana_thresh_e = 3.5\n",
    "electron_size = 24.5"
   ]
  },
  {
   "cell_type": "markdown",
   "id": "69cf2cdd",
   "metadata": {},
   "source": [
    "# Get data"
   ]
  },
  {
   "cell_type": "code",
   "execution_count": 4,
   "id": "8dc88e19",
   "metadata": {},
   "outputs": [
    {
     "data": {
      "text/html": [
       "<div>\n",
       "<style scoped>\n",
       "    .dataframe tbody tr th:only-of-type {\n",
       "        vertical-align: middle;\n",
       "    }\n",
       "\n",
       "    .dataframe tbody tr th {\n",
       "        vertical-align: top;\n",
       "    }\n",
       "\n",
       "    .dataframe thead th {\n",
       "        text-align: right;\n",
       "    }\n",
       "</style>\n",
       "<table border=\"1\" class=\"dataframe\">\n",
       "  <thead>\n",
       "    <tr style=\"text-align: right;\">\n",
       "      <th></th>\n",
       "      <th>label</th>\n",
       "      <th>type</th>\n",
       "      <th>weight</th>\n",
       "      <th>luxstamp</th>\n",
       "      <th>time_since_1e5_phe</th>\n",
       "      <th>S1_spiky</th>\n",
       "      <th>S1_spiky_cor</th>\n",
       "      <th>area</th>\n",
       "      <th>area_cor</th>\n",
       "      <th>spiky</th>\n",
       "      <th>...</th>\n",
       "      <th>s2filter_max_area_diff</th>\n",
       "      <th>pulse_height_phe_per_sample</th>\n",
       "      <th>dt05_01</th>\n",
       "      <th>dt10_05</th>\n",
       "      <th>dt25_10</th>\n",
       "      <th>dt50_25</th>\n",
       "      <th>dt75_50</th>\n",
       "      <th>dt90_75</th>\n",
       "      <th>dt95_90</th>\n",
       "      <th>dt99_95</th>\n",
       "    </tr>\n",
       "  </thead>\n",
       "  <tbody>\n",
       "    <tr>\n",
       "      <th>0</th>\n",
       "      <td>1</td>\n",
       "      <td>gate</td>\n",
       "      <td>0.000967</td>\n",
       "      <td>7288872996049035</td>\n",
       "      <td>64414764</td>\n",
       "      <td>2.0</td>\n",
       "      <td>2.252349</td>\n",
       "      <td>804.234314</td>\n",
       "      <td>891.930420</td>\n",
       "      <td>705.0</td>\n",
       "      <td>...</td>\n",
       "      <td>420.650696</td>\n",
       "      <td>7.818999</td>\n",
       "      <td>18.0</td>\n",
       "      <td>19.0</td>\n",
       "      <td>30.0</td>\n",
       "      <td>36.0</td>\n",
       "      <td>56.0</td>\n",
       "      <td>58.0</td>\n",
       "      <td>26.0</td>\n",
       "      <td>41.0</td>\n",
       "    </tr>\n",
       "    <tr>\n",
       "      <th>1</th>\n",
       "      <td>1</td>\n",
       "      <td>gate</td>\n",
       "      <td>0.001013</td>\n",
       "      <td>7288941777834926</td>\n",
       "      <td>82496144</td>\n",
       "      <td>2.0</td>\n",
       "      <td>2.596129</td>\n",
       "      <td>820.775574</td>\n",
       "      <td>896.044250</td>\n",
       "      <td>723.0</td>\n",
       "      <td>...</td>\n",
       "      <td>482.873383</td>\n",
       "      <td>8.449175</td>\n",
       "      <td>27.0</td>\n",
       "      <td>16.0</td>\n",
       "      <td>29.0</td>\n",
       "      <td>37.0</td>\n",
       "      <td>42.0</td>\n",
       "      <td>37.0</td>\n",
       "      <td>23.0</td>\n",
       "      <td>54.0</td>\n",
       "    </tr>\n",
       "    <tr>\n",
       "      <th>2</th>\n",
       "      <td>1</td>\n",
       "      <td>gate</td>\n",
       "      <td>0.001637</td>\n",
       "      <td>7289702920133704</td>\n",
       "      <td>87490112</td>\n",
       "      <td>3.0</td>\n",
       "      <td>3.716992</td>\n",
       "      <td>645.691406</td>\n",
       "      <td>747.300171</td>\n",
       "      <td>571.0</td>\n",
       "      <td>...</td>\n",
       "      <td>327.321991</td>\n",
       "      <td>8.661569</td>\n",
       "      <td>14.0</td>\n",
       "      <td>13.0</td>\n",
       "      <td>20.0</td>\n",
       "      <td>26.0</td>\n",
       "      <td>27.0</td>\n",
       "      <td>26.0</td>\n",
       "      <td>13.0</td>\n",
       "      <td>30.0</td>\n",
       "    </tr>\n",
       "    <tr>\n",
       "      <th>3</th>\n",
       "      <td>1</td>\n",
       "      <td>gate</td>\n",
       "      <td>0.000327</td>\n",
       "      <td>7290004788853087</td>\n",
       "      <td>84500976</td>\n",
       "      <td>55.0</td>\n",
       "      <td>88.603195</td>\n",
       "      <td>144.175491</td>\n",
       "      <td>178.301743</td>\n",
       "      <td>142.0</td>\n",
       "      <td>...</td>\n",
       "      <td>58.701935</td>\n",
       "      <td>2.581175</td>\n",
       "      <td>21.0</td>\n",
       "      <td>68.0</td>\n",
       "      <td>26.0</td>\n",
       "      <td>21.0</td>\n",
       "      <td>32.0</td>\n",
       "      <td>56.0</td>\n",
       "      <td>12.0</td>\n",
       "      <td>13.0</td>\n",
       "    </tr>\n",
       "    <tr>\n",
       "      <th>4</th>\n",
       "      <td>1</td>\n",
       "      <td>gate</td>\n",
       "      <td>0.000967</td>\n",
       "      <td>7290125390757952</td>\n",
       "      <td>153123904</td>\n",
       "      <td>19.0</td>\n",
       "      <td>30.082190</td>\n",
       "      <td>418.659210</td>\n",
       "      <td>520.163574</td>\n",
       "      <td>361.0</td>\n",
       "      <td>...</td>\n",
       "      <td>227.479492</td>\n",
       "      <td>5.881978</td>\n",
       "      <td>22.0</td>\n",
       "      <td>14.0</td>\n",
       "      <td>22.0</td>\n",
       "      <td>30.0</td>\n",
       "      <td>37.0</td>\n",
       "      <td>41.0</td>\n",
       "      <td>20.0</td>\n",
       "      <td>32.0</td>\n",
       "    </tr>\n",
       "  </tbody>\n",
       "</table>\n",
       "<p>5 rows × 46 columns</p>\n",
       "</div>"
      ],
      "text/plain": [
       "   label  type    weight          luxstamp  time_since_1e5_phe  S1_spiky  \\\n",
       "0      1  gate  0.000967  7288872996049035            64414764       2.0   \n",
       "1      1  gate  0.001013  7288941777834926            82496144       2.0   \n",
       "2      1  gate  0.001637  7289702920133704            87490112       3.0   \n",
       "3      1  gate  0.000327  7290004788853087            84500976      55.0   \n",
       "4      1  gate  0.000967  7290125390757952           153123904      19.0   \n",
       "\n",
       "   S1_spiky_cor        area    area_cor  spiky  ...  s2filter_max_area_diff  \\\n",
       "0      2.252349  804.234314  891.930420  705.0  ...              420.650696   \n",
       "1      2.596129  820.775574  896.044250  723.0  ...              482.873383   \n",
       "2      3.716992  645.691406  747.300171  571.0  ...              327.321991   \n",
       "3     88.603195  144.175491  178.301743  142.0  ...               58.701935   \n",
       "4     30.082190  418.659210  520.163574  361.0  ...              227.479492   \n",
       "\n",
       "   pulse_height_phe_per_sample  dt05_01  dt10_05  dt25_10  dt50_25  dt75_50  \\\n",
       "0                     7.818999     18.0     19.0     30.0     36.0     56.0   \n",
       "1                     8.449175     27.0     16.0     29.0     37.0     42.0   \n",
       "2                     8.661569     14.0     13.0     20.0     26.0     27.0   \n",
       "3                     2.581175     21.0     68.0     26.0     21.0     32.0   \n",
       "4                     5.881978     22.0     14.0     22.0     30.0     37.0   \n",
       "\n",
       "   dt90_75  dt95_90  dt99_95  \n",
       "0     58.0     26.0     41.0  \n",
       "1     37.0     23.0     54.0  \n",
       "2     26.0     13.0     30.0  \n",
       "3     56.0     12.0     13.0  \n",
       "4     41.0     20.0     32.0  \n",
       "\n",
       "[5 rows x 46 columns]"
      ]
     },
     "execution_count": 4,
     "metadata": {},
     "output_type": "execute_result"
    }
   ],
   "source": [
    "df = pd.read_csv(os.getcwd()+'/Training_with_vetoes.csv',\n",
    "                 header=0)\n",
    "# Add differences in AFT values\n",
    "df['dt05_01']=df.aft_t05_samples.astype('float64')-df.aft_t0_samples.astype('float64')\n",
    "df['dt10_05']=df.aft_tlx_samples.astype('float64')-df.aft_t05_samples.astype('float64')\n",
    "df['dt25_10']=df.aft_t25_samples.astype('float64')-df.aft_tlx_samples.astype('float64')\n",
    "df['dt50_25']=df.aft_t1_samples.astype('float64')-df.aft_t25_samples.astype('float64')\n",
    "df['dt75_50']=df.aft_t75_samples.astype('float64')-df.aft_t1_samples.astype('float64')\n",
    "df['dt90_75']=df.aft_trx_samples.astype('float64')-df.aft_t75_samples.astype('float64')\n",
    "df['dt95_90']=df.aft_t95_samples.astype('float64')-df.aft_trx_samples.astype('float64')\n",
    "df['dt99_95']=df.aft_t2_samples.astype('float64')-df.aft_t95_samples.astype('float64')\n",
    "#df['half_width']=df.aft_t1_samples.astype('float64')-df.aft_t05_samples.astype('float64')\n",
    "df.head()"
   ]
  },
  {
   "cell_type": "markdown",
   "id": "5b80be6c",
   "metadata": {},
   "source": [
    "# Re-weight data"
   ]
  },
  {
   "cell_type": "code",
   "execution_count": 5,
   "id": "01a13dde",
   "metadata": {},
   "outputs": [],
   "source": [
    "electron_axis = hist.axis.Regular(50,0.5,50.5,name=\"electrons\",\n",
    "                           label=\"Extracted electrons\",flow=False)"
   ]
  },
  {
   "cell_type": "code",
   "execution_count": 6,
   "id": "f0729d82",
   "metadata": {},
   "outputs": [],
   "source": [
    "df['ext_elec'] = df.area/electron_size"
   ]
  },
  {
   "cell_type": "code",
   "execution_count": 7,
   "id": "921850b1",
   "metadata": {},
   "outputs": [
    {
     "name": "stderr",
     "output_type": "stream",
     "text": [
      "findfont: Font family ['normal'] not found. Falling back to DejaVu Sans.\n"
     ]
    },
    {
     "data": {
      "image/png": "[encoded data removed]",
      "text/plain": [
       "<Figure size 720x576 with 1 Axes>"
      ]
     },
     "metadata": {
      "needs_background": "light"
     },
     "output_type": "display_data"
    }
   ],
   "source": [
    "gate_hist = Hist(electron_axis)\n",
    "gate_cut = df.type == \"gate\"\n",
    "gate_hist.fill(df.ext_elec[gate_cut])\n",
    "\n",
    "cath_hist = Hist(electron_axis)\n",
    "cath_cut = df.type == \"cath\"\n",
    "cath_hist.fill(df.ext_elec[cath_cut])\n",
    "\n",
    "trit_hist = Hist(electron_axis)\n",
    "trit_cut = df.type == \"trit\"\n",
    "trit_hist.fill(df.ext_elec[trit_cut])\n",
    "\n",
    "fig, ax = plt.subplots(figsize=(10, 8))\n",
    "gate_hist.plot(color='mediumpurple',ls='-',lw=2,yerr=False,label='Gate',ax=ax)\n",
    "cath_hist.plot(color='red',ls='-',lw=2,yerr=False,label='Cathode',ax=ax)\n",
    "trit_hist.plot(color='black',ls='-',lw=2,yerr=False,label='Tritium',ax=ax)\n",
    "\n",
    "ax.set(xlabel='Extracted electrons',ylabel='Counts/e',yscale='log',ylim=[8,10000])\n",
    "ax.legend(bbox_to_anchor=(0.1,1),loc='upper left',frameon=False)\n",
    "\n",
    "plt.show()"
   ]
  },
  {
   "cell_type": "code",
   "execution_count": 8,
   "id": "15858f6f",
   "metadata": {},
   "outputs": [],
   "source": [
    "weight_list = []\n",
    "\n",
    "for ii in range(df.shape[0]):\n",
    "    if df.type[ii] == 'gate':\n",
    "        index = np.searchsorted(gate_hist.to_numpy()[1],df.ext_elec[ii]) - 1\n",
    "        bin_counts = gate_hist[index]\n",
    "    elif df.type[ii] == 'cath':\n",
    "        index = np.searchsorted(cath_hist.to_numpy()[1],df.ext_elec[ii]) - 1\n",
    "        bin_counts = cath_hist[index]\n",
    "    elif df.type[ii] == 'trit':\n",
    "        index = np.searchsorted(trit_hist.to_numpy()[1],df.ext_elec[ii]) - 1\n",
    "        bin_counts = trit_hist[index]     \n",
    "    weight_list.append(1/bin_counts)\n",
    "        \n",
    "df['weights'] = weight_list"
   ]
  },
  {
   "cell_type": "code",
   "execution_count": 9,
   "id": "762435d6",
   "metadata": {},
   "outputs": [
    {
     "data": {
      "image/png": "[encoded data removed]",
      "text/plain": [
       "<Figure size 720x576 with 1 Axes>"
      ]
     },
     "metadata": {
      "needs_background": "light"
     },
     "output_type": "display_data"
    }
   ],
   "source": [
    "norm_gate_hist = Hist(electron_axis)\n",
    "gate_cut = df.type == \"gate\"\n",
    "norm_gate_hist.fill(df.ext_elec[gate_cut],weight = df.weights[gate_cut])\n",
    "\n",
    "norm_cath_hist = Hist(electron_axis)\n",
    "cath_cut = df.type == \"cath\"\n",
    "norm_cath_hist.fill(df.ext_elec[cath_cut],weight = df.weights[cath_cut])\n",
    "\n",
    "norm_trit_hist = Hist(electron_axis)\n",
    "trit_cut = df.type == \"trit\"\n",
    "norm_trit_hist.fill(df.ext_elec[trit_cut],weight = df.weights[trit_cut])\n",
    "\n",
    "fig, ax = plt.subplots(figsize=(10, 8))\n",
    "norm_gate_hist.plot(color='mediumpurple',ls='-',lw=2,yerr=False,label='Gate',ax=ax)\n",
    "norm_cath_hist.plot(color='red',ls='-',lw=2,yerr=False,label='Cathode',ax=ax)\n",
    "norm_trit_hist.plot(color='black',ls='-',lw=2,yerr=False,label='Tritium',ax=ax)\n",
    "\n",
    "ax.set(xlabel='Extracted electrons',ylabel='Counts/e',ylim=[0,5])\n",
    "ax.legend(bbox_to_anchor=(0.1,1),loc='upper left',frameon=False)\n",
    "\n",
    "plt.show()"
   ]
  },
  {
   "cell_type": "markdown",
   "id": "352617f6",
   "metadata": {},
   "source": [
    "# Machine learning"
   ]
  },
  {
   "cell_type": "markdown",
   "id": "0102e237",
   "metadata": {},
   "source": [
    "### Prepare data for machine learning"
   ]
  },
  {
   "cell_type": "code",
   "execution_count": 28,
   "id": "bfd018ae",
   "metadata": {},
   "outputs": [
    {
     "data": {
      "text/html": [
       "<div>\n",
       "<style scoped>\n",
       "    .dataframe tbody tr th:only-of-type {\n",
       "        vertical-align: middle;\n",
       "    }\n",
       "\n",
       "    .dataframe tbody tr th {\n",
       "        vertical-align: top;\n",
       "    }\n",
       "\n",
       "    .dataframe thead th {\n",
       "        text-align: right;\n",
       "    }\n",
       "</style>\n",
       "<table border=\"1\" class=\"dataframe\">\n",
       "  <thead>\n",
       "    <tr style=\"text-align: right;\">\n",
       "      <th></th>\n",
       "      <th>label</th>\n",
       "      <th>type</th>\n",
       "      <th>weight</th>\n",
       "      <th>luxstamp</th>\n",
       "      <th>time_since_1e5_phe</th>\n",
       "      <th>S1_spiky</th>\n",
       "      <th>S1_spiky_cor</th>\n",
       "      <th>area</th>\n",
       "      <th>area_cor</th>\n",
       "      <th>spiky</th>\n",
       "      <th>...</th>\n",
       "      <th>dt05_01</th>\n",
       "      <th>dt10_05</th>\n",
       "      <th>dt25_10</th>\n",
       "      <th>dt50_25</th>\n",
       "      <th>dt75_50</th>\n",
       "      <th>dt90_75</th>\n",
       "      <th>dt95_90</th>\n",
       "      <th>dt99_95</th>\n",
       "      <th>ext_elec</th>\n",
       "      <th>weights</th>\n",
       "    </tr>\n",
       "  </thead>\n",
       "  <tbody>\n",
       "    <tr>\n",
       "      <th>0</th>\n",
       "      <td>1</td>\n",
       "      <td>gate</td>\n",
       "      <td>0.000967</td>\n",
       "      <td>7288872996049035</td>\n",
       "      <td>64414764</td>\n",
       "      <td>2.0</td>\n",
       "      <td>2.252349</td>\n",
       "      <td>804.234314</td>\n",
       "      <td>891.930420</td>\n",
       "      <td>705.0</td>\n",
       "      <td>...</td>\n",
       "      <td>18.0</td>\n",
       "      <td>19.0</td>\n",
       "      <td>30.0</td>\n",
       "      <td>36.0</td>\n",
       "      <td>56.0</td>\n",
       "      <td>58.0</td>\n",
       "      <td>26.0</td>\n",
       "      <td>41.0</td>\n",
       "      <td>32.825890</td>\n",
       "      <td>0.045455</td>\n",
       "    </tr>\n",
       "    <tr>\n",
       "      <th>1</th>\n",
       "      <td>1</td>\n",
       "      <td>gate</td>\n",
       "      <td>0.001013</td>\n",
       "      <td>7288941777834926</td>\n",
       "      <td>82496144</td>\n",
       "      <td>2.0</td>\n",
       "      <td>2.596129</td>\n",
       "      <td>820.775574</td>\n",
       "      <td>896.044250</td>\n",
       "      <td>723.0</td>\n",
       "      <td>...</td>\n",
       "      <td>27.0</td>\n",
       "      <td>16.0</td>\n",
       "      <td>29.0</td>\n",
       "      <td>37.0</td>\n",
       "      <td>42.0</td>\n",
       "      <td>37.0</td>\n",
       "      <td>23.0</td>\n",
       "      <td>54.0</td>\n",
       "      <td>33.501044</td>\n",
       "      <td>0.047619</td>\n",
       "    </tr>\n",
       "    <tr>\n",
       "      <th>2</th>\n",
       "      <td>1</td>\n",
       "      <td>gate</td>\n",
       "      <td>0.001637</td>\n",
       "      <td>7289702920133704</td>\n",
       "      <td>87490112</td>\n",
       "      <td>3.0</td>\n",
       "      <td>3.716992</td>\n",
       "      <td>645.691406</td>\n",
       "      <td>747.300171</td>\n",
       "      <td>571.0</td>\n",
       "      <td>...</td>\n",
       "      <td>14.0</td>\n",
       "      <td>13.0</td>\n",
       "      <td>20.0</td>\n",
       "      <td>26.0</td>\n",
       "      <td>27.0</td>\n",
       "      <td>26.0</td>\n",
       "      <td>13.0</td>\n",
       "      <td>30.0</td>\n",
       "      <td>26.354751</td>\n",
       "      <td>0.076923</td>\n",
       "    </tr>\n",
       "    <tr>\n",
       "      <th>3</th>\n",
       "      <td>1</td>\n",
       "      <td>gate</td>\n",
       "      <td>0.000327</td>\n",
       "      <td>7290004788853087</td>\n",
       "      <td>84500976</td>\n",
       "      <td>55.0</td>\n",
       "      <td>88.603195</td>\n",
       "      <td>144.175491</td>\n",
       "      <td>178.301743</td>\n",
       "      <td>142.0</td>\n",
       "      <td>...</td>\n",
       "      <td>21.0</td>\n",
       "      <td>68.0</td>\n",
       "      <td>26.0</td>\n",
       "      <td>21.0</td>\n",
       "      <td>32.0</td>\n",
       "      <td>56.0</td>\n",
       "      <td>12.0</td>\n",
       "      <td>13.0</td>\n",
       "      <td>5.884714</td>\n",
       "      <td>0.015385</td>\n",
       "    </tr>\n",
       "    <tr>\n",
       "      <th>4</th>\n",
       "      <td>1</td>\n",
       "      <td>gate</td>\n",
       "      <td>0.000967</td>\n",
       "      <td>7290125390757952</td>\n",
       "      <td>153123904</td>\n",
       "      <td>19.0</td>\n",
       "      <td>30.082190</td>\n",
       "      <td>418.659210</td>\n",
       "      <td>520.163574</td>\n",
       "      <td>361.0</td>\n",
       "      <td>...</td>\n",
       "      <td>22.0</td>\n",
       "      <td>14.0</td>\n",
       "      <td>22.0</td>\n",
       "      <td>30.0</td>\n",
       "      <td>37.0</td>\n",
       "      <td>41.0</td>\n",
       "      <td>20.0</td>\n",
       "      <td>32.0</td>\n",
       "      <td>17.088131</td>\n",
       "      <td>0.045455</td>\n",
       "    </tr>\n",
       "  </tbody>\n",
       "</table>\n",
       "<p>5 rows × 48 columns</p>\n",
       "</div>"
      ],
      "text/plain": [
       "   label  type    weight          luxstamp  time_since_1e5_phe  S1_spiky  \\\n",
       "0      1  gate  0.000967  7288872996049035            64414764       2.0   \n",
       "1      1  gate  0.001013  7288941777834926            82496144       2.0   \n",
       "2      1  gate  0.001637  7289702920133704            87490112       3.0   \n",
       "3      1  gate  0.000327  7290004788853087            84500976      55.0   \n",
       "4      1  gate  0.000967  7290125390757952           153123904      19.0   \n",
       "\n",
       "   S1_spiky_cor        area    area_cor  spiky  ...  dt05_01  dt10_05  \\\n",
       "0      2.252349  804.234314  891.930420  705.0  ...     18.0     19.0   \n",
       "1      2.596129  820.775574  896.044250  723.0  ...     27.0     16.0   \n",
       "2      3.716992  645.691406  747.300171  571.0  ...     14.0     13.0   \n",
       "3     88.603195  144.175491  178.301743  142.0  ...     21.0     68.0   \n",
       "4     30.082190  418.659210  520.163574  361.0  ...     22.0     14.0   \n",
       "\n",
       "   dt25_10  dt50_25  dt75_50  dt90_75  dt95_90  dt99_95   ext_elec   weights  \n",
       "0     30.0     36.0     56.0     58.0     26.0     41.0  32.825890  0.045455  \n",
       "1     29.0     37.0     42.0     37.0     23.0     54.0  33.501044  0.047619  \n",
       "2     20.0     26.0     27.0     26.0     13.0     30.0  26.354751  0.076923  \n",
       "3     26.0     21.0     32.0     56.0     12.0     13.0   5.884714  0.015385  \n",
       "4     22.0     30.0     37.0     41.0     20.0     32.0  17.088131  0.045455  \n",
       "\n",
       "[5 rows x 48 columns]"
      ]
     },
     "execution_count": 28,
     "metadata": {},
     "output_type": "execute_result"
    }
   ],
   "source": [
    "df_ML = df[df.ext_elec > ana_thresh_e]#.loc[:,features]\n",
    "df_ML.head()"
   ]
  },
  {
   "cell_type": "code",
   "execution_count": 29,
   "id": "f82f3278",
   "metadata": {},
   "outputs": [],
   "source": [
    "features = ['max_pulse_height','pulse_height_phe_per_sample', 'dt05_01',\n",
    "       'dt10_05', 'dt25_10', 'dt50_25', 'dt75_50', 'dt90_75', 'dt95_90',\n",
    "       'dt99_95','hft_t0_samples', 'hft_t1_samples', 'hft_t2_samples', 'ext_elec']\n",
    "\n",
    "X = df_ML[features]\n",
    "Y = df_ML['label']\n",
    "T = df_ML['type']\n",
    "W = df_ML['weight']\n",
    "A = df_ML['area']\n",
    "R = df_ML['r_raw']\n",
    "X_raw = df_ML['x_raw']\n",
    "Y_raw = df_ML['y_raw']\n",
    "L = df_ML['luxstamp']\n",
    "X_train_unscaled, X_test_unscaled, \\\n",
    "Y_train, Y_test, \\\n",
    "W_train, W_test, \\\n",
    "A_train, A_test, \\\n",
    "T_train, T_test, \\\n",
    "R_train, R_test, \\\n",
    "X_raw_train, X_raw_test, \\\n",
    "Y_raw_train, Y_raw_test, \\\n",
    "L_train, L_test = \\\n",
    "train_test_split(X, Y, W, A, T, R, X_raw, Y_raw, L, random_state=0)"
   ]
  },
  {
   "cell_type": "code",
   "execution_count": 30,
   "id": "b54a05d6",
   "metadata": {},
   "outputs": [],
   "source": [
    "scaler = MinMaxScaler()\n",
    "X_train = scaler.fit_transform(X_train_unscaled.astype('float64'))\n",
    "X_test = scaler.transform(X_test_unscaled.astype('float64'))"
   ]
  },
  {
   "cell_type": "markdown",
   "id": "93d24a2b",
   "metadata": {},
   "source": [
    "### Adaptively boosted decision tree"
   ]
  },
  {
   "cell_type": "code",
   "execution_count": 31,
   "id": "6be7a636",
   "metadata": {},
   "outputs": [
    {
     "name": "stderr",
     "output_type": "stream",
     "text": [
      "/Users/kcoliver-mallory/opt/anaconda3/envs/py3root6/lib/python3.8/site-packages/sklearn/ensemble/_base.py:166: FutureWarning: `base_estimator` was renamed to `estimator` in version 1.2 and will be removed in 1.4.\n",
      "  warnings.warn(\n"
     ]
    },
    {
     "data": {
      "text/plain": [
       "(0.7602026071409557, 0.727554241808811)"
      ]
     },
     "execution_count": 31,
     "metadata": {},
     "output_type": "execute_result"
    }
   ],
   "source": [
    "DTC = DecisionTreeClassifier(max_depth=2,min_samples_split=2)\n",
    "ABC = AdaBoostClassifier(base_estimator=DTC,n_estimators=100,algorithm = 'SAMME')\n",
    "model = ABC.fit(X_train, Y_train.values.ravel()\n",
    "                ,sample_weight=W_train.values.ravel().astype('float64'))\n",
    "\n",
    "Y_score = model.decision_function(X_test)\n",
    "\n",
    "model.score(X_train, Y_train, sample_weight=W_train.astype('float64')), \\\n",
    "model.score(X_test, Y_test, sample_weight=W_test.astype('float64')) "
   ]
  },
  {
   "cell_type": "markdown",
   "id": "35f8a698",
   "metadata": {},
   "source": [
    "# Understanding machine learning"
   ]
  },
  {
   "cell_type": "code",
   "execution_count": null,
   "id": "9a885f3b",
   "metadata": {},
   "outputs": [],
   "source": []
  },
  {
   "cell_type": "code",
   "execution_count": null,
   "id": "67d4cf8f",
   "metadata": {},
   "outputs": [],
   "source": []
  },
  {
   "cell_type": "code",
   "execution_count": null,
   "id": "de3c34e8",
   "metadata": {},
   "outputs": [],
   "source": []
  },
  {
   "cell_type": "markdown",
   "id": "373efe15",
   "metadata": {},
   "source": [
    "# Results"
   ]
  },
  {
   "cell_type": "code",
   "execution_count": 34,
   "id": "78ede9df",
   "metadata": {},
   "outputs": [],
   "source": [
    "FPR, TPR, TH = roc_curve(Y_test,Y_score,sample_weight = W_test,pos_label = 2)"
   ]
  },
  {
   "cell_type": "code",
   "execution_count": 36,
   "id": "f180d4c8",
   "metadata": {},
   "outputs": [
    {
     "data": {
      "text/plain": [
       "array([ 1.36580598,  0.36580598,  0.36498562, ..., -0.48858213,\n",
       "       -0.49896286, -0.57475917])"
      ]
     },
     "execution_count": 36,
     "metadata": {},
     "output_type": "execute_result"
    }
   ],
   "source": [
    "TH"
   ]
  },
  {
   "cell_type": "code",
   "execution_count": 37,
   "id": "2d14aa95",
   "metadata": {},
   "outputs": [
    {
     "data": {
      "text/plain": [
       "array([0.00000000e+00, 9.49816266e-05, 2.14980256e-03, ...,\n",
       "       1.00000000e+00, 1.00000000e+00, 1.00000000e+00])"
      ]
     },
     "execution_count": 37,
     "metadata": {},
     "output_type": "execute_result"
    }
   ],
   "source": [
    "TPR"
   ]
  },
  {
   "cell_type": "code",
   "execution_count": 38,
   "id": "9cfe83c6",
   "metadata": {},
   "outputs": [
    {
     "data": {
      "text/plain": [
       "array([-0.14371921,  0.18322061,  0.05441131, ..., -0.05872135,\n",
       "        0.1343712 , -0.07522485])"
      ]
     },
     "execution_count": 38,
     "metadata": {},
     "output_type": "execute_result"
    }
   ],
   "source": [
    "Y_score"
   ]
  },
  {
   "cell_type": "code",
   "execution_count": null,
   "id": "f3c4b207",
   "metadata": {},
   "outputs": [],
   "source": []
  }
 ],
 "metadata": {
  "kernelspec": {
   "display_name": "Python 3 (ipykernel)",
   "language": "python",
   "name": "python3"
  },
  "language_info": {
   "codemirror_mode": {
    "name": "ipython",
    "version": 3
   },
   "file_extension": ".py",
   "mimetype": "text/x-python",
   "name": "python",
   "nbconvert_exporter": "python",
   "pygments_lexer": "ipython3",
   "version": "3.8.18"
  }
 },
 "nbformat": 4,
 "nbformat_minor": 5
}
